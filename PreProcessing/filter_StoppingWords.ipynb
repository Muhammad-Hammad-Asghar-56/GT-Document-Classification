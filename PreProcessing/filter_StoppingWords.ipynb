{
 "cells": [
  {
   "cell_type": "markdown",
   "metadata": {},
   "source": [
    "Filter the Stopping Words"
   ]
  },
  {
   "cell_type": "markdown",
   "metadata": {},
   "source": [
    "### Read Data"
   ]
  },
  {
   "cell_type": "code",
   "execution_count": 2,
   "metadata": {},
   "outputs": [
    {
     "name": "stdout",
     "output_type": "stream",
     "text": [
      "Current Working Directory: d:\\MyData\\University Data\\Semester 6\\GT\\Project\\GT-Document-Classification\\PreProcessing\n",
      "['     Blog | Nerd Fitness      AboutStart HereNewsletterOnline Fitness CoachingFind Your Coach Free Articles\\n      & Resources\\u200b Search for an article or browse by topic below. Featured Resources    \\nHow To Build Your Own Workout Routine: Plans, Schedules, and ExercisesSteve KambSteve \\nKambMarch 17, 2024     Healthy Eating Ultimate Guide: Start Eating Healthy Without Being MiserableSteve\\nKambSteve KambAugust 23, 2022     How to Find a Good Personal Trainer or Coach: 5 Mistakes to Avoid!Steve\\nKambSteve KambJanuary 17, 2024         We have hundreds of science-backed, fun articles about how\\n to eat, train, and think about health and fitness so you can Level Up! Topics How to Work Out\\n at Home   The 8 Best At-Home Workout Routines: The Ultimate Guide for Training Without a Gym   \\nThe Beginner Bodyweight Workout: 20-Minute Routine To Do At Home or Anywhere!     The 20 Minute Be\\nginner Kettlebell Workout: Try This Simple Workout at Home or Anywhere!     How to Work Out in Smal\\nl Spaces (The “No Space” Workout)     How to Build a Home Gym (Using Household Objects)   \\nThe Ultimate Resistance Band Workout: How to Train With Exercise Bands   \\n Warm Up Properly: The 15 Best Dynamic Warm Up Exercises & Routines To Prevent Injury   \\n Strength Training 101   5 Best Strength Training Workout Routines For Beginners (Home & Gym)    \\n  How To Build Your Own Workout Routine: Plans, Schedules, and Exercises     Strength Training For \\n Women: 7 Things You Should Know First!     Strength Training 101: How Much Weight Should I Be \\n lifting?     How Many Sets and Reps Should I Do? (Building The Correct Workout Plan)     How to Squat Properly: The Ultimate Beginner’s Guide     How to Deadlift Safely With Proper Form: Step-by-Step     How to Bench Press Safely (5 Mistakes to Avoid)     How to Perform the Overhead Press: The Ultimate Beginner’s Guide     The Bent-Over Row: The Ultimate Guide for Dumbbell and Barbell Row Training         Weight Loss   Healthy Eating Ultimate Guide: Start Eating Healthy Without Being Miserable     The Ultimate Guide to Losing Fat and Gaining Muscle (At the Exact Same Time)     How Many Calories Should I Eat Every Day? A TDEE Calculator for Total Daily Energy Expenditure     How to Portion Control (How to Lose Weight with Portion Control)     Protein Calculator: Ultimate Guide for Calculating Your Protein Requirements     How to Get in Shape Quickly and Safely: 4-Step Beginner Guide     “Why Can’t I Lose Weight?” 8 Uncomfortable Truths Holding You Back     How to Lose Weight (Without Dieting): 5 Rules of Weight Loss         Popular Diets   What’s the Best Diet to Lose Weight? (Which Diet is Right for Me?)     Paleo Diet Beginner Guide: 7 Things To Know Before Eating Like a Caveman!     The Beginner’s Guide to the Keto Diet     Intermittent Fasting Guide: Myths, Facts, & Strategies     The Mediterranean Diet Beginner’s Guide (Can You Eat Pasta for Weight Loss?)     Going Plant-Based: Following a Vegan Diet for Fitness         How to Build Muscle   How to Build Muscle Fast (Training, Diet, and Workouts)     The Ultimate Skinny Guy’s Guide to Bulking Up Fast: How to Bulk like the Hulk     How to Build Muscle as a Woman: The Ultimate Guide for Gaining Weight the Right Way     How to Gain Weight Quickly: 12 Tips On What to Eat & How to Train     The Ultimate Protein Shake Guide: When to Drink, What to Buy, and Best Recipes         Heading to the Gym   6 Beginner Gym Workouts: How to Work Out in a Gym The Right Way!     Buying a Gym Membership: 6 Things to Consider Before You Purchase     Strength Training 101: Finding the Right Gym     Gym Etiquette: 29 Unwritten Rules         Bodyweight Training   The 44 Best Bodyweight Exercises: The Ultimate Guide for Working Out Anywhere!     How to Do a Proper Pull-up & Chin-up, Step By Step.     The Push-up Progression Plan (Get Your First Push-up!)     How to Do a Handstand: Get Your First Handstand in 30 Days     The 20-Minute Hotel Room Workout: 10 Quick Exercises You Can Do Without Checking Out.     Advanced Bodyweight Workout Circuit: A Full Body Routine You Can Do At Home         Get Moving   How to Run Your Very First 5K (without getting injured!)     40 Fun Ways to Exercise (Without Realizing It)     A Hobbit’s Guide to Walking to Mordor (with Calorie Calculator)     The Beginner’s Guide to Parkour (How to Become a Ninja)     How to Exercise With Your Kids (Work out as a Family!)     A Beginner’s Guide to Running: 4 Steps to Learn How to Run     A Beginner’s Guide to Hiking: Everything You Need For Your First Hike!     A Beginner’s Guide to Biking: How to Cycle for Fitness         Mindset Mastery   5 Hacks to Build Healthy Habits in 2024     How 20 Seconds of Courage can Change Your Life.     The 5-Step Guide to Restarting Your Fitness Journey     How to Start Working Out (Consistently)     “Am I Too Old to Get in Shape?”: The Ultimate Guide for Getting in Shape at Any Age     5 Strategies for Overcoming Imposter Syndrome (to Get in Shape)     How Temptation Bundling Can Help Build Healthier Habits         Stretching & Recovery   Active Recovery Ultimate Guide: What Should I Do on Rest Days?     What is DOMS? The Ultimate Guide for Relieving Sore Muscles     How Do I Sleep Better? The Ultimate Guide for Improving Sleep     How to Touch Your Toes (The 4 Best Stretches to Improve Flexibility)     The 3 Best Flexibility Exercises: The Ultimate Guide for Improving Flexibility in 30 Days     21 Basic Yoga Poses for Beginners: Plus Videos of Complete Routines          The Last Fitness Program You’ll Ever Need Workouts, nutrition guidance, and habit-building. Never wonder where you should put your limited time, energy, and effort. Get our FREE Starter Kit with dozens of resources today!   Email(Required)  PhoneThis field is for validation purposes and should be left unchanged.                    I’m Steve Kamb. I’m a Nerd. I deadlift. Nerd Fitness helps desk jockeys, nerds, and average Joes level up their lives. There’s a lot of B.S. out there about fitness. We’re working to put a stop to it. YouTubeFacebookInstagramHomeLoginAboutContactOnline Fitness CoachingFree ArticlesNewsletterHumans featured are exceptional examples and do not guarantee individual success. Your experience and results may vary. © 2024 Nerd Fitness. Terms and Conditions | Privacy Policy    Menu                                                ', '       Breaking Muscle                                                                      Skip to primary navigation Skip to main contentBreaking MuscleBreaking MuscleSearchSearch our site...Fitness Workouts  Best Shoulder Workouts Best Chest Workouts Best Leg Workouts Best Leg Exercises Best Biceps Exercises Best Kettlebell Exercises Best Back Workouts Best HIIT Workouts Best Triceps Exercises Best Arm Workouts   Reviews  Supplements  Best Pre-Workout Best BCAAs Best Testosterone Boosters Best Bodybuilding Supplements Best Creatine Best Supplements for Weight Loss Best Multivitamins Best Collagen Supplement Best Probiotic Best Non-Stim Pre-Workout Best Greens Powder Best Magnesium Supplements   Protein  Best Protein Powder Best Whey Protein Best Protein Powders for Muscle Gain Best Tasting Protein Powder Best Vegan Protein Best Mass Gainer Best Protein Shakes Best Organic Protein Powder Best Pea Protein Powder Best Protein Bars   Strength Equipment  Best Home Gym Equipment Best Squat Racks Best Barbells Best Weightlifting Belts Best Weight Benches Best Functional Trainers Best Dumbbells Best Adjustable Dumbbells Best Kettlebells Best Resistance Bands Best Trap Bars   Cardio Equipment  Best Cardio Machines Best Rowing Machines Best Treadmills Best Weighted Vests Concept2 RowErg Review Hydrow Wave Review Best Jump Ropes     News Exercise Guides  Legs  Back Squat Bulgarian Split Squat Goblet Squat Zercher Squat Standing Calf Raise Hack Squat   Chest  Bench Press Dumbbell Bench Press Close-Grip Bench Press Incline Bench Press   Shoulders  Overhead Dumbbell Press Lateral Raise   Arms  Chin-Up Weighted Pull-Up Triceps Pushdown   Back  Deadlift Trap Bar Deadlift Lat Pulldown Inverted Row Bent-Over Barbell Row Single-Arm Dumbbell Row Pendlay Row     Search our site...Breaking Muscle  Trending Now     Get the facts about this hotly debated technique The Importance of a Bench Press Arch   More From Breaking Muscle  Read: Chris Hemsworth Diagrams a Killer Upper Body Workout Fit For an Action Star Move:\\xa0Arnold Press Learn: 5 Powerful Lower Body Strength Routines      New Year’s Fitness Sales (2024)   XWERKS Motion BCAA Review (2024): A Registered Dietitian’s Honest Thoughts   Assault Fitness AssaultBike Pro X Review (2024): Assault’s Best Bike Yet?   13 Best Exercise Bikes for Home Gyms (2024)   Transparent Labs BCAA Glutamine Review (2024): The Key to Post-Workout Recovery?      Breaking Muscle Reviews   XWERKS Motion BCAA Review (2024): A Registered Dietitian’s Honest Thoughts   Assault Fitness AssaultBike Pro X Review (2024): Assault’s Best Bike Yet?   13 Best Exercise Bikes for Home Gyms (2024)   Transparent Labs BCAA Glutamine Review (2024): The Key to Post-Workout Recovery?    Latest News     New Mr. Olympia Derek Lunsford Trains Back at Legendary Bev Francis Powerhouse Gym Derek Lunsford etched his name in bodybuilding record books by becoming the first two-division champion in the 59-year history of the Mr. Olympia contest. Coming off that life-changing victory in Orlando, FL that earned him the most coveted title in the sport and a lucrative $400,000 prize, the 18th member of the exclusive Mr. Olympia…Continue Reading      Missy Truscott Suffered Dual Meniscus Tears and a Ruptured ACL During the 2023 Fitness Olympia   5-Time Classic Physique Champion Chris Bumstead and Fiancée Courtney King Share Pregnancy Announcement \\xa0   Samson Dauda Wins 2023 Romania Muscle Fest Pro One Week After Finishing Third in Mr. Olympia\\xa0   Larry Wheels Gained 53 Pounds in 5 Days After Finishing Second at 2023 Amateur Olympia      Training   Chest-Supported Row vs. Bent-Over Row: Which Variation is Best for Building a Bigger Back? It’s no secret that building a well-developed back entails plenty of pulling exercises and enough protein to support your strength- and muscle-building efforts. While there are different routes you can take to achieve that sculpted look, the best back workouts revolve around a classic pull-day staple: the row.\\xa0 The number of row variations to choose…Continue Reading     Superset-Style Upper Body Resistance Band Workout for Muscle Gains   What Muscles Do Push-Ups Work? Get More Out of This Timeless Exercise   What Muscles Do Squats Work? Maximize Your Benefits from the King of Leg Exercises    Workouts   Try These HIIT Treadmill Workouts for Different Goals When it’s time to hit the gym, most people instinctively gravitate toward hitting the weights. That’s certainly an understandable course of action, since weight training plays a role in everything from muscle-building and strength gains to fat-burning and even heart health. However, for maximum results toward any of those goals — physique, performance, or health…Continue Reading     The Ultimate Back and Biceps Workout for Every Lifter From Beginner to Advanced   The Ultimate Bench Press Workout to Increase Strength and Muscle   Try These Biceps Workouts Without Weights for Muscle, Strength, and Fat Loss   The Only Airport Workout You’ll Need When Traveling   Try These Hotel Workouts to Stay Fit During Holiday Travel   Try These 3 Air Bike Workouts for Conditioning, Fat Loss, and More         Be the smartest person in your gym The Breaking Muscle newsletter is everything you need to know about strength in a 3 minute read.  I WANT IN!              Breaking Muscle is the fitness world’s preeminent destination for timely, high-quality information on exercise, fitness, health, and nutrition. Our audience encompasses the entire spectrum of the fitness community: consumers, aficionados, fitness professionals, and business owners. We seek to inform, educate and advocate for this community.    ReviewsHealthy EatingWorkoutsFitnessNews  Follow Us Facebook Twitter Instagram Pinterest RSS Feed     ©\\xa02024 · Breaking Muscle · Terms of Use · Privacy Policy · Affiliate Disclaimer · Accessibility · About                   ']\n"
     ]
    }
   ],
   "source": [
    "import os\n",
    "\n",
    "print(\"Current Working Directory:\", os.getcwd())\n",
    "files=[\"../data/nerdfitness.txt\",\"../data/breakingmuscle.txt\"]\n",
    "file_contents=[]\n",
    "for x in files:\n",
    "    with open(x,'r',encoding='utf-8') as file:\n",
    "        content = file.read()\n",
    "        file_contents.append(content)\n",
    "print(file_contents)"
   ]
  },
  {
   "cell_type": "code",
   "execution_count": null,
   "metadata": {},
   "outputs": [],
   "source": []
  },
  {
   "cell_type": "markdown",
   "metadata": {},
   "source": [
    "### Filter Words"
   ]
  },
  {
   "cell_type": "code",
   "execution_count": 6,
   "metadata": {},
   "outputs": [
    {
     "name": "stderr",
     "output_type": "stream",
     "text": [
      "[nltk_data] Downloading package stopwords to C:\\Users\\Muhammad\n",
      "[nltk_data]     Waseem\\AppData\\Roaming\\nltk_data...\n",
      "[nltk_data]   Unzipping corpora\\stopwords.zip.\n"
     ]
    },
    {
     "name": "stdout",
     "output_type": "stream",
     "text": [
      "['i', 'me', 'my', 'myself', 'we', 'our', 'ours', 'ourselves', 'you', \"you're\", \"you've\", \"you'll\", \"you'd\", 'your', 'yours', 'yourself', 'yourselves', 'he', 'him', 'his', 'himself', 'she', \"she's\", 'her', 'hers', 'herself', 'it', \"it's\", 'its', 'itself', 'they', 'them', 'their', 'theirs', 'themselves', 'what', 'which', 'who', 'whom', 'this', 'that', \"that'll\", 'these', 'those', 'am', 'is', 'are', 'was', 'were', 'be', 'been', 'being', 'have', 'has', 'had', 'having', 'do', 'does', 'did', 'doing', 'a', 'an', 'the', 'and', 'but', 'if', 'or', 'because', 'as', 'until', 'while', 'of', 'at', 'by', 'for', 'with', 'about', 'against', 'between', 'into', 'through', 'during', 'before', 'after', 'above', 'below', 'to', 'from', 'up', 'down', 'in', 'out', 'on', 'off', 'over', 'under', 'again', 'further', 'then', 'once', 'here', 'there', 'when', 'where', 'why', 'how', 'all', 'any', 'both', 'each', 'few', 'more', 'most', 'other', 'some', 'such', 'no', 'nor', 'not', 'only', 'own', 'same', 'so', 'than', 'too', 'very', 's', 't', 'can', 'will', 'just', 'don', \"don't\", 'should', \"should've\", 'now', 'd', 'll', 'm', 'o', 're', 've', 'y', 'ain', 'aren', \"aren't\", 'couldn', \"couldn't\", 'didn', \"didn't\", 'doesn', \"doesn't\", 'hadn', \"hadn't\", 'hasn', \"hasn't\", 'haven', \"haven't\", 'isn', \"isn't\", 'ma', 'mightn', \"mightn't\", 'mustn', \"mustn't\", 'needn', \"needn't\", 'shan', \"shan't\", 'shouldn', \"shouldn't\", 'wasn', \"wasn't\", 'weren', \"weren't\", 'won', \"won't\", 'wouldn', \"wouldn't\"]\n",
      "[['Blog', '|', 'Nerd', 'Fitness', 'AboutStart', 'HereNewsletterOnline', 'Fitness', 'CoachingFind', 'Your', 'Coach', 'Free', 'Articles', '&', 'Resources\\u200b', 'Search', 'article', 'browse', 'topic', 'below.', 'Featured', 'Resources', 'How', 'To', 'Build', 'Your', 'Own', 'Workout', 'Routine:', 'Plans,', 'Schedules,', 'ExercisesSteve', 'KambSteve', 'KambMarch', '17,', '2024', 'Healthy', 'Eating', 'Ultimate', 'Guide:', 'Start', 'Eating', 'Healthy', 'Without', 'Being', 'MiserableSteve', 'KambSteve', 'KambAugust', '23,', '2022', 'How', 'Find', 'Good', 'Personal', 'Trainer', 'Coach:', '5', 'Mistakes', 'Avoid!Steve', 'KambSteve', 'KambJanuary', '17,', '2024', 'We', 'hundreds', 'science-backed,', 'fun', 'articles', 'eat,', 'train,', 'think', 'health', 'fitness', 'Level', 'Up!', 'Topics', 'How', 'Work', 'Out', 'Home', 'The', '8', 'Best', 'At-Home', 'Workout', 'Routines:', 'The', 'Ultimate', 'Guide', 'Training', 'Without', 'Gym', 'The', 'Beginner', 'Bodyweight', 'Workout:', '20-Minute', 'Routine', 'To', 'Do', 'At', 'Home', 'Anywhere!', 'The', '20', 'Minute', 'Be', 'ginner', 'Kettlebell', 'Workout:', 'Try', 'This', 'Simple', 'Workout', 'Home', 'Anywhere!', 'How', 'Work', 'Out', 'Smal', 'l', 'Spaces', '(The', '“No', 'Space”', 'Workout)', 'How', 'Build', 'Home', 'Gym', '(Using', 'Household', 'Objects)', 'The', 'Ultimate', 'Resistance', 'Band', 'Workout:', 'How', 'Train', 'With', 'Exercise', 'Bands', 'Warm', 'Up', 'Properly:', 'The', '15', 'Best', 'Dynamic', 'Warm', 'Up', 'Exercises', '&', 'Routines', 'To', 'Prevent', 'Injury', 'Strength', 'Training', '101', '5', 'Best', 'Strength', 'Training', 'Workout', 'Routines', 'For', 'Beginners', '(Home', '&', 'Gym)', 'How', 'To', 'Build', 'Your', 'Own', 'Workout', 'Routine:', 'Plans,', 'Schedules,', 'Exercises', 'Strength', 'Training', 'For', 'Women:', '7', 'Things', 'You', 'Should', 'Know', 'First!', 'Strength', 'Training', '101:', 'How', 'Much', 'Weight', 'Should', 'I', 'Be', 'lifting?', 'How', 'Many', 'Sets', 'Reps', 'Should', 'I', 'Do?', '(Building', 'The', 'Correct', 'Workout', 'Plan)', 'How', 'Squat', 'Properly:', 'The', 'Ultimate', 'Beginner’s', 'Guide', 'How', 'Deadlift', 'Safely', 'With', 'Proper', 'Form:', 'Step-by-Step', 'How', 'Bench', 'Press', 'Safely', '(5', 'Mistakes', 'Avoid)', 'How', 'Perform', 'Overhead', 'Press:', 'The', 'Ultimate', 'Beginner’s', 'Guide', 'The', 'Bent-Over', 'Row:', 'The', 'Ultimate', 'Guide', 'Dumbbell', 'Barbell', 'Row', 'Training', 'Weight', 'Loss', 'Healthy', 'Eating', 'Ultimate', 'Guide:', 'Start', 'Eating', 'Healthy', 'Without', 'Being', 'Miserable', 'The', 'Ultimate', 'Guide', 'Losing', 'Fat', 'Gaining', 'Muscle', '(At', 'Exact', 'Same', 'Time)', 'How', 'Many', 'Calories', 'Should', 'I', 'Eat', 'Every', 'Day?', 'A', 'TDEE', 'Calculator', 'Total', 'Daily', 'Energy', 'Expenditure', 'How', 'Portion', 'Control', '(How', 'Lose', 'Weight', 'Portion', 'Control)', 'Protein', 'Calculator:', 'Ultimate', 'Guide', 'Calculating', 'Your', 'Protein', 'Requirements', 'How', 'Get', 'Shape', 'Quickly', 'Safely:', '4-Step', 'Beginner', 'Guide', '“Why', 'Can’t', 'I', 'Lose', 'Weight?”', '8', 'Uncomfortable', 'Truths', 'Holding', 'You', 'Back', 'How', 'Lose', 'Weight', '(Without', 'Dieting):', '5', 'Rules', 'Weight', 'Loss', 'Popular', 'Diets', 'What’s', 'Best', 'Diet', 'Lose', 'Weight?', '(Which', 'Diet', 'Right', 'Me?)', 'Paleo', 'Diet', 'Beginner', 'Guide:', '7', 'Things', 'To', 'Know', 'Before', 'Eating', 'Like', 'Caveman!', 'The', 'Beginner’s', 'Guide', 'Keto', 'Diet', 'Intermittent', 'Fasting', 'Guide:', 'Myths,', 'Facts,', '&', 'Strategies', 'The', 'Mediterranean', 'Diet', 'Beginner’s', 'Guide', '(Can', 'You', 'Eat', 'Pasta', 'Weight', 'Loss?)', 'Going', 'Plant-Based:', 'Following', 'Vegan', 'Diet', 'Fitness', 'How', 'Build', 'Muscle', 'How', 'Build', 'Muscle', 'Fast', '(Training,', 'Diet,', 'Workouts)', 'The', 'Ultimate', 'Skinny', 'Guy’s', 'Guide', 'Bulking', 'Up', 'Fast:', 'How', 'Bulk', 'like', 'Hulk', 'How', 'Build', 'Muscle', 'Woman:', 'The', 'Ultimate', 'Guide', 'Gaining', 'Weight', 'Right', 'Way', 'How', 'Gain', 'Weight', 'Quickly:', '12', 'Tips', 'On', 'What', 'Eat', '&', 'How', 'Train', 'The', 'Ultimate', 'Protein', 'Shake', 'Guide:', 'When', 'Drink,', 'What', 'Buy,', 'Best', 'Recipes', 'Heading', 'Gym', '6', 'Beginner', 'Gym', 'Workouts:', 'How', 'Work', 'Out', 'Gym', 'The', 'Right', 'Way!', 'Buying', 'Gym', 'Membership:', '6', 'Things', 'Consider', 'Before', 'You', 'Purchase', 'Strength', 'Training', '101:', 'Finding', 'Right', 'Gym', 'Gym', 'Etiquette:', '29', 'Unwritten', 'Rules', 'Bodyweight', 'Training', 'The', '44', 'Best', 'Bodyweight', 'Exercises:', 'The', 'Ultimate', 'Guide', 'Working', 'Out', 'Anywhere!', 'How', 'Do', 'Proper', 'Pull-up', '&', 'Chin-up,', 'Step', 'By', 'Step.', 'The', 'Push-up', 'Progression', 'Plan', '(Get', 'Your', 'First', 'Push-up!)', 'How', 'Do', 'Handstand:', 'Get', 'Your', 'First', 'Handstand', '30', 'Days', 'The', '20-Minute', 'Hotel', 'Room', 'Workout:', '10', 'Quick', 'Exercises', 'You', 'Can', 'Do', 'Without', 'Checking', 'Out.', 'Advanced', 'Bodyweight', 'Workout', 'Circuit:', 'A', 'Full', 'Body', 'Routine', 'You', 'Can', 'Do', 'At', 'Home', 'Get', 'Moving', 'How', 'Run', 'Your', 'Very', 'First', '5K', '(without', 'getting', 'injured!)', '40', 'Fun', 'Ways', 'Exercise', '(Without', 'Realizing', 'It)', 'A', 'Hobbit’s', 'Guide', 'Walking', 'Mordor', '(with', 'Calorie', 'Calculator)', 'The', 'Beginner’s', 'Guide', 'Parkour', '(How', 'Become', 'Ninja)', 'How', 'Exercise', 'With', 'Your', 'Kids', '(Work', 'Family!)', 'A', 'Beginner’s', 'Guide', 'Running:', '4', 'Steps', 'Learn', 'How', 'Run', 'A', 'Beginner’s', 'Guide', 'Hiking:', 'Everything', 'You', 'Need', 'For', 'Your', 'First', 'Hike!', 'A', 'Beginner’s', 'Guide', 'Biking:', 'How', 'Cycle', 'Fitness', 'Mindset', 'Mastery', '5', 'Hacks', 'Build', 'Healthy', 'Habits', '2024', 'How', '20', 'Seconds', 'Courage', 'Change', 'Your', 'Life.', 'The', '5-Step', 'Guide', 'Restarting', 'Your', 'Fitness', 'Journey', 'How', 'Start', 'Working', 'Out', '(Consistently)', '“Am', 'I', 'Too', 'Old', 'Get', 'Shape?”:', 'The', 'Ultimate', 'Guide', 'Getting', 'Shape', 'Any', 'Age', '5', 'Strategies', 'Overcoming', 'Imposter', 'Syndrome', '(to', 'Get', 'Shape)', 'How', 'Temptation', 'Bundling', 'Can', 'Help', 'Build', 'Healthier', 'Habits', 'Stretching', '&', 'Recovery', 'Active', 'Recovery', 'Ultimate', 'Guide:', 'What', 'Should', 'I', 'Do', 'Rest', 'Days?', 'What', 'DOMS?', 'The', 'Ultimate', 'Guide', 'Relieving', 'Sore', 'Muscles', 'How', 'Do', 'I', 'Sleep', 'Better?', 'The', 'Ultimate', 'Guide', 'Improving', 'Sleep', 'How', 'Touch', 'Your', 'Toes', '(The', '4', 'Best', 'Stretches', 'Improve', 'Flexibility)', 'The', '3', 'Best', 'Flexibility', 'Exercises:', 'The', 'Ultimate', 'Guide', 'Improving', 'Flexibility', '30', 'Days', '21', 'Basic', 'Yoga', 'Poses', 'Beginners:', 'Plus', 'Videos', 'Complete', 'Routines', 'The', 'Last', 'Fitness', 'Program', 'You’ll', 'Ever', 'Need', 'Workouts,', 'nutrition', 'guidance,', 'habit-building.', 'Never', 'wonder', 'put', 'limited', 'time,', 'energy,', 'effort.', 'Get', 'FREE', 'Starter', 'Kit', 'dozens', 'resources', 'today!', 'Email(Required)', 'PhoneThis', 'field', 'validation', 'purposes', 'left', 'unchanged.', 'I’m', 'Steve', 'Kamb.', 'I’m', 'Nerd.', 'I', 'deadlift.', 'Nerd', 'Fitness', 'helps', 'desk', 'jockeys,', 'nerds,', 'average', 'Joes', 'level', 'lives.', 'There’s', 'lot', 'B.S.', 'fitness.', 'We’re', 'working', 'put', 'stop', 'it.', 'YouTubeFacebookInstagramHomeLoginAboutContactOnline', 'Fitness', 'CoachingFree', 'ArticlesNewsletterHumans', 'featured', 'exceptional', 'examples', 'guarantee', 'individual', 'success.', 'Your', 'experience', 'results', 'may', 'vary.', '©', '2024', 'Nerd', 'Fitness.', 'Terms', 'Conditions', '|', 'Privacy', 'Policy', 'Menu'], ['Breaking', 'Muscle', 'Skip', 'primary', 'navigation', 'Skip', 'main', 'contentBreaking', 'MuscleBreaking', 'MuscleSearchSearch', 'site...Fitness', 'Workouts', 'Best', 'Shoulder', 'Workouts', 'Best', 'Chest', 'Workouts', 'Best', 'Leg', 'Workouts', 'Best', 'Leg', 'Exercises', 'Best', 'Biceps', 'Exercises', 'Best', 'Kettlebell', 'Exercises', 'Best', 'Back', 'Workouts', 'Best', 'HIIT', 'Workouts', 'Best', 'Triceps', 'Exercises', 'Best', 'Arm', 'Workouts', 'Reviews', 'Supplements', 'Best', 'Pre-Workout', 'Best', 'BCAAs', 'Best', 'Testosterone', 'Boosters', 'Best', 'Bodybuilding', 'Supplements', 'Best', 'Creatine', 'Best', 'Supplements', 'Weight', 'Loss', 'Best', 'Multivitamins', 'Best', 'Collagen', 'Supplement', 'Best', 'Probiotic', 'Best', 'Non-Stim', 'Pre-Workout', 'Best', 'Greens', 'Powder', 'Best', 'Magnesium', 'Supplements', 'Protein', 'Best', 'Protein', 'Powder', 'Best', 'Whey', 'Protein', 'Best', 'Protein', 'Powders', 'Muscle', 'Gain', 'Best', 'Tasting', 'Protein', 'Powder', 'Best', 'Vegan', 'Protein', 'Best', 'Mass', 'Gainer', 'Best', 'Protein', 'Shakes', 'Best', 'Organic', 'Protein', 'Powder', 'Best', 'Pea', 'Protein', 'Powder', 'Best', 'Protein', 'Bars', 'Strength', 'Equipment', 'Best', 'Home', 'Gym', 'Equipment', 'Best', 'Squat', 'Racks', 'Best', 'Barbells', 'Best', 'Weightlifting', 'Belts', 'Best', 'Weight', 'Benches', 'Best', 'Functional', 'Trainers', 'Best', 'Dumbbells', 'Best', 'Adjustable', 'Dumbbells', 'Best', 'Kettlebells', 'Best', 'Resistance', 'Bands', 'Best', 'Trap', 'Bars', 'Cardio', 'Equipment', 'Best', 'Cardio', 'Machines', 'Best', 'Rowing', 'Machines', 'Best', 'Treadmills', 'Best', 'Weighted', 'Vests', 'Concept2', 'RowErg', 'Review', 'Hydrow', 'Wave', 'Review', 'Best', 'Jump', 'Ropes', 'News', 'Exercise', 'Guides', 'Legs', 'Back', 'Squat', 'Bulgarian', 'Split', 'Squat', 'Goblet', 'Squat', 'Zercher', 'Squat', 'Standing', 'Calf', 'Raise', 'Hack', 'Squat', 'Chest', 'Bench', 'Press', 'Dumbbell', 'Bench', 'Press', 'Close-Grip', 'Bench', 'Press', 'Incline', 'Bench', 'Press', 'Shoulders', 'Overhead', 'Dumbbell', 'Press', 'Lateral', 'Raise', 'Arms', 'Chin-Up', 'Weighted', 'Pull-Up', 'Triceps', 'Pushdown', 'Back', 'Deadlift', 'Trap', 'Bar', 'Deadlift', 'Lat', 'Pulldown', 'Inverted', 'Row', 'Bent-Over', 'Barbell', 'Row', 'Single-Arm', 'Dumbbell', 'Row', 'Pendlay', 'Row', 'Search', 'site...Breaking', 'Muscle', 'Trending', 'Now', 'Get', 'facts', 'hotly', 'debated', 'technique', 'The', 'Importance', 'Bench', 'Press', 'Arch', 'More', 'From', 'Breaking', 'Muscle', 'Read:', 'Chris', 'Hemsworth', 'Diagrams', 'Killer', 'Upper', 'Body', 'Workout', 'Fit', 'For', 'Action', 'Star', 'Move:', 'Arnold', 'Press', 'Learn:', '5', 'Powerful', 'Lower', 'Body', 'Strength', 'Routines', 'New', 'Year’s', 'Fitness', 'Sales', '(2024)', 'XWERKS', 'Motion', 'BCAA', 'Review', '(2024):', 'A', 'Registered', 'Dietitian’s', 'Honest', 'Thoughts', 'Assault', 'Fitness', 'AssaultBike', 'Pro', 'X', 'Review', '(2024):', 'Assault’s', 'Best', 'Bike', 'Yet?', '13', 'Best', 'Exercise', 'Bikes', 'Home', 'Gyms', '(2024)', 'Transparent', 'Labs', 'BCAA', 'Glutamine', 'Review', '(2024):', 'The', 'Key', 'Post-Workout', 'Recovery?', 'Breaking', 'Muscle', 'Reviews', 'XWERKS', 'Motion', 'BCAA', 'Review', '(2024):', 'A', 'Registered', 'Dietitian’s', 'Honest', 'Thoughts', 'Assault', 'Fitness', 'AssaultBike', 'Pro', 'X', 'Review', '(2024):', 'Assault’s', 'Best', 'Bike', 'Yet?', '13', 'Best', 'Exercise', 'Bikes', 'Home', 'Gyms', '(2024)', 'Transparent', 'Labs', 'BCAA', 'Glutamine', 'Review', '(2024):', 'The', 'Key', 'Post-Workout', 'Recovery?', 'Latest', 'News', 'New', 'Mr.', 'Olympia', 'Derek', 'Lunsford', 'Trains', 'Back', 'Legendary', 'Bev', 'Francis', 'Powerhouse', 'Gym', 'Derek', 'Lunsford', 'etched', 'name', 'bodybuilding', 'record', 'books', 'becoming', 'first', 'two-division', 'champion', '59-year', 'history', 'Mr.', 'Olympia', 'contest.', 'Coming', 'life-changing', 'victory', 'Orlando,', 'FL', 'earned', 'coveted', 'title', 'sport', 'lucrative', '$400,000', 'prize,', '18th', 'member', 'exclusive', 'Mr.', 'Olympia…Continue', 'Reading', 'Missy', 'Truscott', 'Suffered', 'Dual', 'Meniscus', 'Tears', 'Ruptured', 'ACL', 'During', '2023', 'Fitness', 'Olympia', '5-Time', 'Classic', 'Physique', 'Champion', 'Chris', 'Bumstead', 'Fiancée', 'Courtney', 'King', 'Share', 'Pregnancy', 'Announcement', 'Samson', 'Dauda', 'Wins', '2023', 'Romania', 'Muscle', 'Fest', 'Pro', 'One', 'Week', 'After', 'Finishing', 'Third', 'Mr.', 'Olympia', 'Larry', 'Wheels', 'Gained', '53', 'Pounds', '5', 'Days', 'After', 'Finishing', 'Second', '2023', 'Amateur', 'Olympia', 'Training', 'Chest-Supported', 'Row', 'vs.', 'Bent-Over', 'Row:', 'Which', 'Variation', 'Best', 'Building', 'Bigger', 'Back?', 'It’s', 'secret', 'building', 'well-developed', 'back', 'entails', 'plenty', 'pulling', 'exercises', 'enough', 'protein', 'support', 'strength-', 'muscle-building', 'efforts.', 'While', 'different', 'routes', 'take', 'achieve', 'sculpted', 'look,', 'best', 'back', 'workouts', 'revolve', 'around', 'classic', 'pull-day', 'staple:', 'row.', 'The', 'number', 'row', 'variations', 'choose…Continue', 'Reading', 'Superset-Style', 'Upper', 'Body', 'Resistance', 'Band', 'Workout', 'Muscle', 'Gains', 'What', 'Muscles', 'Do', 'Push-Ups', 'Work?', 'Get', 'More', 'Out', 'This', 'Timeless', 'Exercise', 'What', 'Muscles', 'Do', 'Squats', 'Work?', 'Maximize', 'Your', 'Benefits', 'King', 'Leg', 'Exercises', 'Workouts', 'Try', 'These', 'HIIT', 'Treadmill', 'Workouts', 'Different', 'Goals', 'When', 'it’s', 'time', 'hit', 'gym,', 'people', 'instinctively', 'gravitate', 'toward', 'hitting', 'weights.', 'That’s', 'certainly', 'understandable', 'course', 'action,', 'since', 'weight', 'training', 'plays', 'role', 'everything', 'muscle-building', 'strength', 'gains', 'fat-burning', 'even', 'heart', 'health.', 'However,', 'maximum', 'results', 'toward', 'goals', '—', 'physique,', 'performance,', 'health…Continue', 'Reading', 'The', 'Ultimate', 'Back', 'Biceps', 'Workout', 'Every', 'Lifter', 'From', 'Beginner', 'Advanced', 'The', 'Ultimate', 'Bench', 'Press', 'Workout', 'Increase', 'Strength', 'Muscle', 'Try', 'These', 'Biceps', 'Workouts', 'Without', 'Weights', 'Muscle,', 'Strength,', 'Fat', 'Loss', 'The', 'Only', 'Airport', 'Workout', 'You’ll', 'Need', 'When', 'Traveling', 'Try', 'These', 'Hotel', 'Workouts', 'Stay', 'Fit', 'During', 'Holiday', 'Travel', 'Try', 'These', '3', 'Air', 'Bike', 'Workouts', 'Conditioning,', 'Fat', 'Loss,', 'More', 'Be', 'smartest', 'person', 'gym', 'The', 'Breaking', 'Muscle', 'newsletter', 'everything', 'need', 'know', 'strength', '3', 'minute', 'read.', 'I', 'WANT', 'IN!', 'Breaking', 'Muscle', 'fitness', 'world’s', 'preeminent', 'destination', 'timely,', 'high-quality', 'information', 'exercise,', 'fitness,', 'health,', 'nutrition.', 'Our', 'audience', 'encompasses', 'entire', 'spectrum', 'fitness', 'community:', 'consumers,', 'aficionados,', 'fitness', 'professionals,', 'business', 'owners.', 'We', 'seek', 'inform,', 'educate', 'advocate', 'community.', 'ReviewsHealthy', 'EatingWorkoutsFitnessNews', 'Follow', 'Us', 'Facebook', 'Twitter', 'Instagram', 'Pinterest', 'RSS', 'Feed', '©', '2024', '·', 'Breaking', 'Muscle', '·', 'Terms', 'Use', '·', 'Privacy', 'Policy', '·', 'Affiliate', 'Disclaimer', '·', 'Accessibility', '·', 'About']]\n"
     ]
    }
   ],
   "source": [
    "\n",
    "import nltk\n",
    "from nltk.corpus import stopwords\n",
    "import re\n",
    "\n",
    "nltk.download('stopwords')\n",
    "print(stopwords.words('english'))\n",
    "# remove wide Spaces\n",
    "filter_words=[]\n",
    "for x in file_contents:\n",
    "    data = re.sub(r'\\s+', ' ', x)\n",
    "    words = data.split(' ')\n",
    "    words=[x for x in words if len(x)>0]\n",
    "    filter_words.append([w for w in words if w not in stopwords.words('English')])\n",
    "print(filter_words)\n"
   ]
  },
  {
   "cell_type": "code",
   "execution_count": 13,
   "metadata": {},
   "outputs": [],
   "source": [
    "def directedGraph(arr):\n",
    "    adj_list = dict()\n",
    "    prev = arr[0]\n",
    "    for x in arr[1:]:\n",
    "        if(prev in adj_list):\n",
    "            if(x not in adj_list[prev]):\n",
    "                adj_list[prev].append(x)\n",
    "        else:\n",
    "            adj_list[prev] = [x]\n",
    "        prev=x\n",
    "    return adj_list\n",
    "\n",
    "def store_graph(file_name:str,data:dict):\n",
    "    file_name=file_name.split('/')[-1]\n",
    "    \n",
    "    # directory = os.path.dirname(file_name)\n",
    "    # if not os.path.exists(directory):\n",
    "    #     os.makedirs(directory)\n",
    "\n",
    "    with open(f'../directedGraph/{file_name}', 'w', encoding='utf-8') as file:\n",
    "        for key, value in data.items():\n",
    "            file.write(f\"{key}:{','.join(value)}\\n\")\n",
    "\n",
    "for index in range(len(filter_words)):\n",
    "    store_graph(files[index],directedGraph(filter_words[index]))\n"
   ]
  },
  {
   "cell_type": "code",
   "execution_count": null,
   "metadata": {},
   "outputs": [],
   "source": []
  }
 ],
 "metadata": {
  "kernelspec": {
   "display_name": "Python 3.10.7 64-bit",
   "language": "python",
   "name": "python3"
  },
  "language_info": {
   "codemirror_mode": {
    "name": "ipython",
    "version": 3
   },
   "file_extension": ".py",
   "mimetype": "text/x-python",
   "name": "python",
   "nbconvert_exporter": "python",
   "pygments_lexer": "ipython3",
   "version": "3.10.7"
  },
  "vscode": {
   "interpreter": {
    "hash": "503a710a7c65bf663b492da1a356ac52ce65abe81ed1e6aaf6a01c3a76ae4ba6"
   }
  }
 },
 "nbformat": 4,
 "nbformat_minor": 2
}
