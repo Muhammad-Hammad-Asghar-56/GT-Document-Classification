{
 "cells": [
  {
   "cell_type": "markdown",
   "metadata": {},
   "source": [
    "##### Graph Class"
   ]
  },
  {
   "cell_type": "code",
   "execution_count": 42,
   "metadata": {},
   "outputs": [],
   "source": [
    "class Graph():\n",
    "    def __init__(self, name):\n",
    "        self.name = name\n",
    "        self.vertices = []\n",
    "        self.edges = []\n",
    "        self.adjacency_list = {}\n",
    "    def __init__(self, name):\n",
    "        self.name = \"Undefined\"\n",
    "        self.vertices = []\n",
    "        self.edges = []\n",
    "        self.adjacency_list = {}\n",
    "\n",
    "    def readGraph(self,fileName:str):\n",
    "        try:\n",
    "            with open(fileName, 'r', encoding='utf-8', errors='ignore') as file:\n",
    "                for line in file:\n",
    "                    line = line.strip()\n",
    "                    if line:\n",
    "                        nodes = line.split(':')\n",
    "                        if len(nodes) == 2:\n",
    "                            source = nodes[0].strip()\n",
    "                            self.vertices.append(source)\n",
    "\n",
    "                            if(nodes[1]==\"\"):\n",
    "                                continue    \n",
    "                            destinations = nodes[1].split(',')\n",
    "                            destinations = [dest.strip() for dest in destinations]\n",
    "                            self.adjacency_list[source] = destinations\n",
    "                            \n",
    "                            for x in destinations:\n",
    "                                if (source,x) or (x,source) not in self.edge.items():\n",
    "                                    self.edges.append((x,source))\n",
    "        except FileNotFoundError:\n",
    "            print(f\"Error: File not found at {fileName}\")\n",
    "        except UnicodeDecodeError:\n",
    "            print(f\"Error: Unable to decode file at {fileName}\")\n",
    "    \n",
    "\n",
    "    def find_Similarity(self,edges:list):\n",
    "       # Convert each tuple to a set\n",
    "        x_sets = [set(pair) for pair in self.edges]\n",
    "        y_sets = [set(pair) for pair in edges]\n",
    "\n",
    "        # Find sets in x that are also in y\n",
    "        similar_sets = [pair for pair in x_sets if pair in y_sets]\n",
    "\n",
    "        # print(\"Sets with similar elements:\")\n",
    "        # for pair in similar_sets:\n",
    "        #     print(pair)\n",
    "        return similar_sets\n",
    "\n",
    "\n"
   ]
  },
  {
   "cell_type": "markdown",
   "metadata": {},
   "source": [
    "#### Read MCS as Train Graphs"
   ]
  },
  {
   "cell_type": "code",
   "execution_count": 43,
   "metadata": {},
   "outputs": [],
   "source": [
    "import os\n",
    "path = \"../mcs_results\"\n",
    "\n",
    "items = os.listdir(path)\n",
    "trainGraphs=[]\n",
    "# Filter out only the directories from the list of items\n",
    "directories = [item for item in items if os.path.isdir(os.path.join(path, item))]\n",
    "\n",
    "def get_files(path):\n",
    "    files = []\n",
    "    for root, directories, filenames in os.walk(path):\n",
    "        files.extend(filenames)\n",
    "    return files\n",
    "\n",
    "\n",
    "for directory in directories: # types of graph\n",
    "    for file in get_files(path+\"/\"+directory):\n",
    "        g = Graph(directory)\n",
    "        g.readGraph(path+\"/\"+directory+\"/\"+file)\n",
    "        trainGraphs.append((directory,g))\n",
    "            \n",
    "    "
   ]
  },
  {
   "cell_type": "markdown",
   "metadata": {},
   "source": [
    "##### Find Similarity of Test graph with trains"
   ]
  },
  {
   "cell_type": "code",
   "execution_count": 66,
   "metadata": {},
   "outputs": [
    {
     "name": "stdout",
     "output_type": "stream",
     "text": [
      "Sorted Result:\n",
      "Name: HealthandFitness, Similarity Length: 26\n",
      "Name: HealthandFitness, Similarity Length: 10\n",
      "Name: HealthandFitness, Similarity Length: 9\n",
      "Sorted Result:\n",
      "Name: HealthandFitness, Similarity Length: 26\n",
      "Name: HealthandFitness, Similarity Length: 10\n",
      "Name: HealthandFitness, Similarity Length: 9\n"
     ]
    }
   ],
   "source": [
    "k=3\n",
    "testfiles = [\"../mcs_results/HealthandFitness/healthline.txt_medicalnewstoday.txt_mcs.txt\",\n",
    " \"../mcs_results/HealthandFitness/healthline.txt_pharmeasy.txt_mcs.txt\"]\n",
    "expected=[\"HealthandFitness\",\"Travel\"]\n",
    "testGraphs=[]\n",
    "for x in testfiles:\n",
    "    testG=Graph(\"Undefined\")\n",
    "    testG.readGraph(x)\n",
    "    testGraphs.append(testG)\n",
    "\n",
    "\n",
    "\n",
    "for x_test in testGraphs:\n",
    "    result = []\n",
    "    for name,x_train in trainGraphs[::-1]: # y_train : name\n",
    "        similarity = x_train.find_Similarity(x_test.edges)\n",
    "        result.append((name,similarity))\n",
    "\n",
    "    sorted_result = sorted(result, key=lambda x: len(x[1]), reverse=True)\n",
    "\n",
    "    print(\"Sorted Result:\")\n",
    "    for name, similarity in sorted_result:\n",
    "        print(f\"Name: {name}, Similarity Length: {len(similarity)}\")\n",
    "\n",
    "    result=result[:k]\n",
    "        "
   ]
  },
  {
   "cell_type": "code",
   "execution_count": null,
   "metadata": {},
   "outputs": [],
   "source": []
  }
 ],
 "metadata": {
  "kernelspec": {
   "display_name": "Python 3",
   "language": "python",
   "name": "python3"
  },
  "language_info": {
   "codemirror_mode": {
    "name": "ipython",
    "version": 3
   },
   "file_extension": ".py",
   "mimetype": "text/x-python",
   "name": "python",
   "nbconvert_exporter": "python",
   "pygments_lexer": "ipython3",
   "version": "3.12.1"
  }
 },
 "nbformat": 4,
 "nbformat_minor": 2
}
