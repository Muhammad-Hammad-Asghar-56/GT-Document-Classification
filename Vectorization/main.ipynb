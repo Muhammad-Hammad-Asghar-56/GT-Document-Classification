{
 "cells": [
  {
   "cell_type": "code",
   "execution_count": 9,
   "metadata": {},
   "outputs": [],
   "source": [
    "class Graph():\n",
    "    def __init__(self, name):\n",
    "        self.name = name\n",
    "        self.vertices = []\n",
    "        self.edges = []\n",
    "        self.adjacency_list = {}\n",
    "    \n",
    "    def readGraph(self,fileName:str):\n",
    "        try:\n",
    "            with open(fileName, 'r', encoding='utf-8', errors='ignore') as file:\n",
    "                for line in file:\n",
    "                    line = line.strip()\n",
    "                    if line:\n",
    "                        nodes = line.split(':')\n",
    "                        if len(nodes) == 2:\n",
    "                            source = nodes[0].strip()\n",
    "\n",
    "                            if(nodes[1]==\"\"):\n",
    "                                continue    \n",
    "\n",
    "                            self.vertices.append(source)\n",
    "                            destinations = nodes[1].split(',')\n",
    "                            destinations = [dest.strip() for dest in destinations]\n",
    "                            self.adjacency_list[source] = destinations\n",
    "                            \n",
    "                            for x in destinations:\n",
    "                                if (source,x) or (x,source) not in self.edge.items():\n",
    "                                    self.edges.append((x,source))\n",
    "                                    \n",
    "        except FileNotFoundError:\n",
    "            print(f\"Error: File not found at {fileName}\")\n",
    "        except UnicodeDecodeError:\n",
    "            print(f\"Error: Unable to decode file at {fileName}\")\n",
    "    \n",
    "\n",
    "    def find_Similarity(self,edges:list):\n",
    "       # Convert each tuple to a set\n",
    "        x_sets = [set(pair) for pair in self.edges]\n",
    "        y_sets = [set(pair) for pair in edges]\n",
    "\n",
    "        # Find sets in x that are also in y\n",
    "        similar_sets = [pair for pair in x_sets if pair in y_sets]\n",
    "\n",
    "        # print(\"Sets with similar elements:\")\n",
    "        # for pair in similar_sets:\n",
    "        #     print(pair)\n",
    "        return similar_sets"
   ]
  },
  {
   "cell_type": "code",
   "execution_count": 28,
   "metadata": {},
   "outputs": [
    {
     "name": "stdout",
     "output_type": "stream",
     "text": [
      "[['extra', 'HealthandFitness'], ['gain', 'HealthandFitness'], ['complex', 'HealthandFitness'], ['variety', 'HealthandFitness'], ['', 'HealthandFitness'], ['way', 'HealthandFitness'], ['olive', 'HealthandFitness'], ['weight', 'HealthandFitness'], ['foods', 'HealthandFitness'], ['Last', 'HealthandFitness'], ['g', 'HealthandFitness'], ['increase', 'HealthandFitness'], ['120', 'HealthandFitness'], ['dark', 'HealthandFitness'], ['whole', 'HealthandFitness'], ['build', 'HealthandFitness'], ['speak', 'HealthandFitness'], ['Greek', 'HealthandFitness'], ['help', 'HealthandFitness'], ['gaining', 'HealthandFitness'], ['protein', 'HealthandFitness'], ['try', 'HealthandFitness'], ['dairy', 'HealthandFitness'], ['throughout', 'HealthandFitness'], ['gain', 'HealthandFitness'], ['soy', 'HealthandFitness'], ['Help', 'HealthandFitness'], ['olive', 'HealthandFitness'], ['I', 'HealthandFitness'], ['coconut', 'HealthandFitness'], ['looking', 'HealthandFitness'], ['You', 'HealthandFitness'], ['weight', 'HealthandFitness'], ['foods', 'HealthandFitness'], ['trying', 'HealthandFitness'], ['calorie-dense', 'HealthandFitness'], ['whole', 'HealthandFitness'], ['eating', 'HealthandFitness'], ['ways', 'HealthandFitness'], ['build', 'HealthandFitness'], ['help', 'HealthandFitness'], ['Healthy', 'HealthandFitness'], ['gaining', 'HealthandFitness'], ['diet', 'HealthandFitness'], ['dairy', 'HealthandFitness'], ['gain', 'HealthandFitness'], ['way', 'HealthandFitness'], ['olive', 'HealthandFitness'], ['consume', 'HealthandFitness'], ['may', 'HealthandFitness'], ['brown', 'HealthandFitness'], ['weight', 'HealthandFitness'], ['also', 'HealthandFitness'], ['healthy', 'HealthandFitness'], ['best', 'HealthandFitness'], ['whole', 'HealthandFitness'], ['build', 'HealthandFitness'], ['need', 'HealthandFitness'], ['help', 'HealthandFitness'], ['gaining', 'HealthandFitness'], ['calories', 'HealthandFitness'], ['diet', 'HealthandFitness'], ['dairy', 'HealthandFitness']]\n",
      "['HealthandFitness']\n"
     ]
    }
   ],
   "source": [
    "import os\n",
    "path = \"../mcs_results\"\n",
    "items = os.listdir(path)\n",
    "\n",
    "# Filter out only the directories from the list of items\n",
    "directories = [item for item in items if os.path.isdir(os.path.join(path, item))]\n",
    "\n",
    "def get_files(path):\n",
    "    files = []\n",
    "    for root, directories, filenames in os.walk(path):\n",
    "        files.extend(filenames)\n",
    "    return files\n",
    "\n",
    "Graphs=[]\n",
    "for directory in directories: # types of graph\n",
    "    for file in get_files(path+\"/\"+directory):\n",
    "        g = Graph(directory)\n",
    "        g.readGraph(path+\"/\"+directory+\"/\"+file)\n",
    "        Graphs.append(g)\n",
    "\n",
    "labels=[]\n",
    "texts=[]\n",
    "for g in Graphs:\n",
    "    texts.extend([[x,g.name] for x in g.vertices])\n",
    "    labels.append(g.name)\n",
    "\n",
    "print(texts)\n",
    "labels=list(set(labels))\n",
    "print(labels)"
   ]
  },
  {
   "cell_type": "code",
   "execution_count": 29,
   "metadata": {},
   "outputs": [
    {
     "ename": "ValueError",
     "evalue": "Found input variables with inconsistent numbers of samples: [63, 1]",
     "output_type": "error",
     "traceback": [
      "\u001b[1;31m---------------------------------------------------------------------------\u001b[0m",
      "\u001b[1;31mValueError\u001b[0m                                Traceback (most recent call last)",
      "Cell \u001b[1;32mIn[29], line 9\u001b[0m\n\u001b[0;32m      6\u001b[0m \u001b[38;5;28;01mimport\u001b[39;00m \u001b[38;5;21;01mos\u001b[39;00m\n\u001b[0;32m      8\u001b[0m \u001b[38;5;66;03m# Split the data into training and testing sets\u001b[39;00m\n\u001b[1;32m----> 9\u001b[0m X_train, X_test, y_train, y_test \u001b[38;5;241m=\u001b[39m \u001b[43mtrain_test_split\u001b[49m\u001b[43m(\u001b[49m\u001b[43mtexts\u001b[49m\u001b[43m,\u001b[49m\u001b[43m \u001b[49m\u001b[43mlabels\u001b[49m\u001b[43m)\u001b[49m\n\u001b[0;32m     11\u001b[0m \u001b[38;5;66;03m# Create a pipeline with TF-IDF vectorizer and SVM classifier\u001b[39;00m\n\u001b[0;32m     12\u001b[0m model \u001b[38;5;241m=\u001b[39m make_pipeline(TfidfVectorizer(), SVC())\n",
      "File \u001b[1;32mc:\\Users\\mhasghar\\AppData\\Local\\Programs\\Python\\Python312\\Lib\\site-packages\\sklearn\\utils\\_param_validation.py:213\u001b[0m, in \u001b[0;36mvalidate_params.<locals>.decorator.<locals>.wrapper\u001b[1;34m(*args, **kwargs)\u001b[0m\n\u001b[0;32m    207\u001b[0m \u001b[38;5;28;01mtry\u001b[39;00m:\n\u001b[0;32m    208\u001b[0m     \u001b[38;5;28;01mwith\u001b[39;00m config_context(\n\u001b[0;32m    209\u001b[0m         skip_parameter_validation\u001b[38;5;241m=\u001b[39m(\n\u001b[0;32m    210\u001b[0m             prefer_skip_nested_validation \u001b[38;5;129;01mor\u001b[39;00m global_skip_validation\n\u001b[0;32m    211\u001b[0m         )\n\u001b[0;32m    212\u001b[0m     ):\n\u001b[1;32m--> 213\u001b[0m         \u001b[38;5;28;01mreturn\u001b[39;00m \u001b[43mfunc\u001b[49m\u001b[43m(\u001b[49m\u001b[38;5;241;43m*\u001b[39;49m\u001b[43margs\u001b[49m\u001b[43m,\u001b[49m\u001b[43m \u001b[49m\u001b[38;5;241;43m*\u001b[39;49m\u001b[38;5;241;43m*\u001b[39;49m\u001b[43mkwargs\u001b[49m\u001b[43m)\u001b[49m\n\u001b[0;32m    214\u001b[0m \u001b[38;5;28;01mexcept\u001b[39;00m InvalidParameterError \u001b[38;5;28;01mas\u001b[39;00m e:\n\u001b[0;32m    215\u001b[0m     \u001b[38;5;66;03m# When the function is just a wrapper around an estimator, we allow\u001b[39;00m\n\u001b[0;32m    216\u001b[0m     \u001b[38;5;66;03m# the function to delegate validation to the estimator, but we replace\u001b[39;00m\n\u001b[0;32m    217\u001b[0m     \u001b[38;5;66;03m# the name of the estimator by the name of the function in the error\u001b[39;00m\n\u001b[0;32m    218\u001b[0m     \u001b[38;5;66;03m# message to avoid confusion.\u001b[39;00m\n\u001b[0;32m    219\u001b[0m     msg \u001b[38;5;241m=\u001b[39m re\u001b[38;5;241m.\u001b[39msub(\n\u001b[0;32m    220\u001b[0m         \u001b[38;5;124mr\u001b[39m\u001b[38;5;124m\"\u001b[39m\u001b[38;5;124mparameter of \u001b[39m\u001b[38;5;124m\\\u001b[39m\u001b[38;5;124mw+ must be\u001b[39m\u001b[38;5;124m\"\u001b[39m,\n\u001b[0;32m    221\u001b[0m         \u001b[38;5;124mf\u001b[39m\u001b[38;5;124m\"\u001b[39m\u001b[38;5;124mparameter of \u001b[39m\u001b[38;5;132;01m{\u001b[39;00mfunc\u001b[38;5;241m.\u001b[39m\u001b[38;5;18m__qualname__\u001b[39m\u001b[38;5;132;01m}\u001b[39;00m\u001b[38;5;124m must be\u001b[39m\u001b[38;5;124m\"\u001b[39m,\n\u001b[0;32m    222\u001b[0m         \u001b[38;5;28mstr\u001b[39m(e),\n\u001b[0;32m    223\u001b[0m     )\n",
      "File \u001b[1;32mc:\\Users\\mhasghar\\AppData\\Local\\Programs\\Python\\Python312\\Lib\\site-packages\\sklearn\\model_selection\\_split.py:2657\u001b[0m, in \u001b[0;36mtrain_test_split\u001b[1;34m(test_size, train_size, random_state, shuffle, stratify, *arrays)\u001b[0m\n\u001b[0;32m   2654\u001b[0m \u001b[38;5;28;01mif\u001b[39;00m n_arrays \u001b[38;5;241m==\u001b[39m \u001b[38;5;241m0\u001b[39m:\n\u001b[0;32m   2655\u001b[0m     \u001b[38;5;28;01mraise\u001b[39;00m \u001b[38;5;167;01mValueError\u001b[39;00m(\u001b[38;5;124m\"\u001b[39m\u001b[38;5;124mAt least one array required as input\u001b[39m\u001b[38;5;124m\"\u001b[39m)\n\u001b[1;32m-> 2657\u001b[0m arrays \u001b[38;5;241m=\u001b[39m \u001b[43mindexable\u001b[49m\u001b[43m(\u001b[49m\u001b[38;5;241;43m*\u001b[39;49m\u001b[43marrays\u001b[49m\u001b[43m)\u001b[49m\n\u001b[0;32m   2659\u001b[0m n_samples \u001b[38;5;241m=\u001b[39m _num_samples(arrays[\u001b[38;5;241m0\u001b[39m])\n\u001b[0;32m   2660\u001b[0m n_train, n_test \u001b[38;5;241m=\u001b[39m _validate_shuffle_split(\n\u001b[0;32m   2661\u001b[0m     n_samples, test_size, train_size, default_test_size\u001b[38;5;241m=\u001b[39m\u001b[38;5;241m0.25\u001b[39m\n\u001b[0;32m   2662\u001b[0m )\n",
      "File \u001b[1;32mc:\\Users\\mhasghar\\AppData\\Local\\Programs\\Python\\Python312\\Lib\\site-packages\\sklearn\\utils\\validation.py:514\u001b[0m, in \u001b[0;36mindexable\u001b[1;34m(*iterables)\u001b[0m\n\u001b[0;32m    484\u001b[0m \u001b[38;5;250m\u001b[39m\u001b[38;5;124;03m\"\"\"Make arrays indexable for cross-validation.\u001b[39;00m\n\u001b[0;32m    485\u001b[0m \n\u001b[0;32m    486\u001b[0m \u001b[38;5;124;03mChecks consistent length, passes through None, and ensures that everything\u001b[39;00m\n\u001b[1;32m   (...)\u001b[0m\n\u001b[0;32m    510\u001b[0m \u001b[38;5;124;03m[[1, 2, 3], array([2, 3, 4]), None, <3x1 sparse matrix ...>]\u001b[39;00m\n\u001b[0;32m    511\u001b[0m \u001b[38;5;124;03m\"\"\"\u001b[39;00m\n\u001b[0;32m    513\u001b[0m result \u001b[38;5;241m=\u001b[39m [_make_indexable(X) \u001b[38;5;28;01mfor\u001b[39;00m X \u001b[38;5;129;01min\u001b[39;00m iterables]\n\u001b[1;32m--> 514\u001b[0m \u001b[43mcheck_consistent_length\u001b[49m\u001b[43m(\u001b[49m\u001b[38;5;241;43m*\u001b[39;49m\u001b[43mresult\u001b[49m\u001b[43m)\u001b[49m\n\u001b[0;32m    515\u001b[0m \u001b[38;5;28;01mreturn\u001b[39;00m result\n",
      "File \u001b[1;32mc:\\Users\\mhasghar\\AppData\\Local\\Programs\\Python\\Python312\\Lib\\site-packages\\sklearn\\utils\\validation.py:457\u001b[0m, in \u001b[0;36mcheck_consistent_length\u001b[1;34m(*arrays)\u001b[0m\n\u001b[0;32m    455\u001b[0m uniques \u001b[38;5;241m=\u001b[39m np\u001b[38;5;241m.\u001b[39munique(lengths)\n\u001b[0;32m    456\u001b[0m \u001b[38;5;28;01mif\u001b[39;00m \u001b[38;5;28mlen\u001b[39m(uniques) \u001b[38;5;241m>\u001b[39m \u001b[38;5;241m1\u001b[39m:\n\u001b[1;32m--> 457\u001b[0m     \u001b[38;5;28;01mraise\u001b[39;00m \u001b[38;5;167;01mValueError\u001b[39;00m(\n\u001b[0;32m    458\u001b[0m         \u001b[38;5;124m\"\u001b[39m\u001b[38;5;124mFound input variables with inconsistent numbers of samples: \u001b[39m\u001b[38;5;132;01m%r\u001b[39;00m\u001b[38;5;124m\"\u001b[39m\n\u001b[0;32m    459\u001b[0m         \u001b[38;5;241m%\u001b[39m [\u001b[38;5;28mint\u001b[39m(l) \u001b[38;5;28;01mfor\u001b[39;00m l \u001b[38;5;129;01min\u001b[39;00m lengths]\n\u001b[0;32m    460\u001b[0m     )\n",
      "\u001b[1;31mValueError\u001b[0m: Found input variables with inconsistent numbers of samples: [63, 1]"
     ]
    }
   ],
   "source": [
    "from sklearn.feature_extraction.text import TfidfVectorizer\n",
    "from sklearn.svm import SVC\n",
    "from sklearn.pipeline import make_pipeline\n",
    "from sklearn.model_selection import train_test_split\n",
    "from sklearn.metrics import accuracy_score\n",
    "import os\n",
    "\n",
    "# Split the data into training and testing sets\n",
    "X_train, X_test, y_train, y_test = train_test_split(texts)\n",
    "\n",
    "# Create a pipeline with TF-IDF vectorizer and SVM classifier\n",
    "model = make_pipeline(TfidfVectorizer(), SVC())\n",
    "\n",
    "# Train the model\n",
    "model.fit(X_train, y_train)\n",
    "\n",
    "# Predict on the test data\n",
    "y_pred = model.predict(X_test)\n",
    "\n",
    "# Evaluate the model\n",
    "accuracy = accuracy_score(y_test, y_pred)\n",
    "print(\"Accuracy:\", accuracy)"
   ]
  }
 ],
 "metadata": {
  "kernelspec": {
   "display_name": "Python 3",
   "language": "python",
   "name": "python3"
  },
  "language_info": {
   "codemirror_mode": {
    "name": "ipython",
    "version": 3
   },
   "file_extension": ".py",
   "mimetype": "text/x-python",
   "name": "python",
   "nbconvert_exporter": "python",
   "pygments_lexer": "ipython3",
   "version": "3.12.1"
  }
 },
 "nbformat": 4,
 "nbformat_minor": 2
}
